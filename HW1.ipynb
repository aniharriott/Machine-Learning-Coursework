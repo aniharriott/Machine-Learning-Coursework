{
 "cells": [
  {
   "cell_type": "code",
   "execution_count": 42,
   "metadata": {},
   "outputs": [],
   "source": [
    "import numpy as np\n",
    "from mnist import MNIST\n",
    "import scipy as scipy\n",
    "\n",
    "mndata = MNIST('./data/')\n",
    "X_train, labels_train = map(np.array, mndata.load_training()) \n",
    "X_test, labels_test = map(np.array, mndata.load_testing()) \n",
    "X_train = X_train/255.0\n",
    "X_test = X_test/255.0\n"
   ]
  },
  {
   "cell_type": "code",
   "execution_count": 43,
   "metadata": {},
   "outputs": [],
   "source": [
    "def train(X, Y, lam):\n",
    "    d = len(X.transpose())\n",
    "    a = X.transpose().dot(X) + lam*np.identity(d)\n",
    "    b = X.transpose().dot(Y)\n",
    "    return np.linalg.solve(a, b)\n",
    "    "
   ]
  },
  {
   "cell_type": "code",
   "execution_count": 44,
   "metadata": {},
   "outputs": [],
   "source": [
    "def predict(W, X_prime):\n",
    "    return X_prime.dot(W).argmax(axis=1)    "
   ]
  },
  {
   "cell_type": "code",
   "execution_count": 46,
   "metadata": {},
   "outputs": [
    {
     "name": "stdout",
     "output_type": "stream",
     "text": [
      "train error: 0.14801666666666666\n",
      "test error: 0.1467\n"
     ]
    }
   ],
   "source": [
    "# one-hot encoding for Y\n",
    "n = len(X_train)\n",
    "k = 10\n",
    "Y_train_onehot = np.zeros((n, k))\n",
    "Y_train_onehot[np.arange(n), labels_train] = 1\n",
    "\n",
    "W = train(X_train, Y_train_onehot, 10E-4)\n",
    "\n",
    "print(\"train error:\" , np.mean(predict(W, X_train) != labels_train))\n",
    "print(\"test error:\" , np.mean(predict(W, X_test) != labels_test))"
   ]
  },
  {
   "cell_type": "code",
   "execution_count": null,
   "metadata": {},
   "outputs": [],
   "source": []
  }
 ],
 "metadata": {
  "kernelspec": {
   "display_name": "Python 3",
   "language": "python",
   "name": "python3"
  },
  "language_info": {
   "codemirror_mode": {
    "name": "ipython",
    "version": 3
   },
   "file_extension": ".py",
   "mimetype": "text/x-python",
   "name": "python",
   "nbconvert_exporter": "python",
   "pygments_lexer": "ipython3",
   "version": "3.7.6"
  }
 },
 "nbformat": 4,
 "nbformat_minor": 4
}
